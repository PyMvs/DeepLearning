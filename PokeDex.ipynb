{
  "nbformat": 4,
  "nbformat_minor": 0,
  "metadata": {
    "colab": {
      "name": "PokeDex.ipynb",
      "provenance": [],
      "collapsed_sections": [],
      "mount_file_id": "1NEMl-X671cHYq6oDn1iKbGDkvyo5QhaD",
      "authorship_tag": "ABX9TyPxi5dxxSrbltMAfQn2enwt",
      "include_colab_link": true
    },
    "kernelspec": {
      "name": "python3",
      "display_name": "Python 3"
    },
    "accelerator": "GPU"
  },
  "cells": [
    {
      "cell_type": "markdown",
      "metadata": {
        "id": "view-in-github",
        "colab_type": "text"
      },
      "source": [
        "<a href=\"https://colab.research.google.com/github/SwordPy/DeepLearning/blob/master/PokeDex.ipynb\" target=\"_parent\"><img src=\"https://colab.research.google.com/assets/colab-badge.svg\" alt=\"Open In Colab\"/></a>"
      ]
    },
    {
      "cell_type": "code",
      "metadata": {
        "id": "SK70BD1DlIfO",
        "colab_type": "code",
        "outputId": "e80087bd-2d17-48ab-dddf-7fbbbb8fff9a",
        "colab": {
          "base_uri": "https://localhost:8080/",
          "height": 81
        }
      },
      "source": [
        "from tensorflow.keras.preprocessing.image import ImageDataGenerator\n",
        "from tensorflow.keras.models import Sequential, Model\n",
        "from tensorflow.keras.layers import Conv2D, MaxPooling2D\n",
        "from tensorflow.keras.layers import Activation, Dropout, Flatten, Dense, BatchNormalization\n",
        "from tensorflow.keras import backend as K\n",
        "from tensorflow.keras.optimizers import Adam\n",
        "from tensorflow.keras.preprocessing.image import ImageDataGenerator, load_img\n",
        "from keras.utils import layer_utils, np_utils\n",
        "from sklearn.metrics import confusion_matrix, classification_report  \n",
        "from tensorflow.keras.models import load_model\n",
        "\n",
        "import matplotlib.pyplot as plt\n",
        "import matplotlib.image as mpimg\n",
        "import pandas as pd\n",
        "import numpy as np\n",
        "import seaborn as sn \n",
        "import pickle\n",
        "import os\n",
        "import re\n",
        "import tensorflow as tf\n",
        "import cv2"
      ],
      "execution_count": 0,
      "outputs": [
        {
          "output_type": "display_data",
          "data": {
            "text/html": [
              "<p style=\"color: red;\">\n",
              "The default version of TensorFlow in Colab will switch to TensorFlow 2.x on the 27th of March, 2020.<br>\n",
              "We recommend you <a href=\"https://www.tensorflow.org/guide/migrate\" target=\"_blank\">upgrade</a> now\n",
              "or ensure your notebook will continue to use TensorFlow 1.x via the <code>%tensorflow_version 1.x</code> magic:\n",
              "<a href=\"https://colab.research.google.com/notebooks/tensorflow_version.ipynb\" target=\"_blank\">more info</a>.</p>\n"
            ],
            "text/plain": [
              "<IPython.core.display.HTML object>"
            ]
          },
          "metadata": {
            "tags": []
          }
        },
        {
          "output_type": "stream",
          "text": [
            "Using TensorFlow backend.\n"
          ],
          "name": "stderr"
        }
      ]
    },
    {
      "cell_type": "code",
      "metadata": {
        "id": "CMhshRMJlM47",
        "colab_type": "code",
        "colab": {}
      },
      "source": [
        "from google.colab import drive\n",
        "drive.mount('/content/drive')"
      ],
      "execution_count": 0,
      "outputs": []
    },
    {
      "cell_type": "code",
      "metadata": {
        "id": "TWb19W-spF0Q",
        "colab_type": "code",
        "colab": {}
      },
      "source": [
        "# DIRECTORIO DONDE SE ENCUENTRAN LAS IMÁGENES A ENTRENAR/VALIDAR\n",
        "train_data_dir = \"XXXXXXXXXXXXX\""
      ],
      "execution_count": 0,
      "outputs": []
    },
    {
      "cell_type": "code",
      "metadata": {
        "id": "ScQolhWtpGDI",
        "colab_type": "code",
        "colab": {}
      },
      "source": [
        "#ESTABLECER EL DIRECTORIO EN EL QUE QUIERO TRABAJAR\n",
        "#os.chdir(\"/content/drive/My Drive/DatasetsColab/Pokemon_finalTest/Nivel_Basico_Desarrollo_Pokedex/dataset\" )"
      ],
      "execution_count": 0,
      "outputs": []
    },
    {
      "cell_type": "code",
      "metadata": {
        "id": "EUUeEi_B4tYB",
        "colab_type": "code",
        "colab": {}
      },
      "source": [
        "img_width, img_height = 64, 64\n",
        "epochs = 100 \n",
        "batch_size = 15 # ENTRENARÁ LA RED EN PAQUETES DE 15 Y VOLVERÁ A COGER 15 Y ENTRENAR Y ASÍ....\n",
        "lr = 1e-3"
      ],
      "execution_count": 0,
      "outputs": []
    },
    {
      "cell_type": "code",
      "metadata": {
        "id": "4q7Gi0221PZP",
        "colab_type": "code",
        "outputId": "313f69a3-d8fe-47a1-cc04-8d4392abe16a",
        "colab": {
          "base_uri": "https://localhost:8080/",
          "height": 52
        }
      },
      "source": [
        "# SE APROVECHA EL HECHO DE TENER LAS ETIQUETAS EN LAS MISMAS CARPETAS DESTINO -> FLOW_FROM_DIRECTORY\n",
        "train_datagen = ImageDataGenerator(\n",
        "    rescale = 1./255,\n",
        "    zoom_range = 0.2,\n",
        "    rotation_range = 5,\n",
        "    width_shift_range=0.1,\n",
        "    horizontal_flip = True,\n",
        "    height_shift_range=0.1,\n",
        "    fill_mode=\"nearest\",\n",
        "    validation_split = 0.1)\n",
        "\n",
        "train_generator = train_datagen.flow_from_directory( \n",
        "    train_data_dir,\n",
        "    target_size = (img_width, img_height),\n",
        "    batch_size = batch_size,\n",
        "    class_mode  = \"categorical\",\n",
        "    subset = \"training\")\n",
        "\n",
        "validation_generator = train_datagen.flow_from_directory(\n",
        "    train_data_dir,\n",
        "    target_size = (img_width, img_height),\n",
        "    batch_size = batch_size,\n",
        "    class_mode  = \"categorical\",\n",
        "    subset = \"validation\")"
      ],
      "execution_count": 0,
      "outputs": [
        {
          "output_type": "stream",
          "text": [
            "Found 1123 images belonging to 5 classes.\n",
            "Found 122 images belonging to 5 classes.\n"
          ],
          "name": "stdout"
        }
      ]
    },
    {
      "cell_type": "code",
      "metadata": {
        "id": "Ya4QKp_NDQAH",
        "colab_type": "code",
        "colab": {}
      },
      "source": [
        "print(train_generator.samples)"
      ],
      "execution_count": 0,
      "outputs": []
    },
    {
      "cell_type": "code",
      "metadata": {
        "id": "8IemgjF5y28q",
        "colab_type": "code",
        "colab": {}
      },
      "source": [
        "######################################################################################################################\n",
        "# SUPRIMIENDO LA CAPA DENSA DE 512 NEURONAS Y 150 EPOCHS CON BS DE 32 SE OBTIENEN TAMBIÉN BUENOS RESULTADOS, \n",
        "# PERO LA SIGUIENTE ES MÁS EFICIENTE AUNQUE MÁS TARDÍA.\n",
        "######################################################################################################################\n",
        "model = Sequential()\n",
        "\n",
        "#Layer 1\n",
        "model.add(Conv2D(32, (3, 3), input_shape=(img_width, img_height, 3), padding=\"same\", activation = \"relu\"))\n",
        "model.add (BatchNormalization ()) \n",
        "model.add(MaxPooling2D(pool_size=(3, 3),padding='valid'))\n",
        "model.add(Dropout(0.25))\n",
        "\n",
        "model.add(Conv2D(64, (3, 3),padding=\"same\", activation =\"relu\"))\n",
        "model.add (BatchNormalization ()) \n",
        "model.add(MaxPooling2D(pool_size=(2, 2),padding='valid')) #\n",
        "model.add(Dropout(0.25))\n",
        "\n",
        "model.add(Conv2D(64, (3, 3),padding=\"same\", activation =\"relu\"))\n",
        "model.add (BatchNormalization ()) \n",
        "model.add(MaxPooling2D(pool_size=(2, 2),padding='valid')) \n",
        "model.add(Dropout(0.25))\n",
        "\n",
        "#Layer 2\n",
        "model.add(Conv2D(128, (3, 3), padding=\"same\", activation =\"relu\"))\n",
        "model.add (BatchNormalization ()) \n",
        "model.add(MaxPooling2D(pool_size=(2, 2),padding='valid')) \n",
        "\n",
        "model.add(Conv2D(128, (3, 3),padding=\"same\", activation =\"relu\"))\n",
        "model.add (BatchNormalization ()) \n",
        "model.add(MaxPooling2D(pool_size=(2, 2),padding='valid')) \n",
        "model.add(Dropout(0.25))\n",
        "\n",
        "#Layer 3 - FLATTEN\n",
        "model.add(Flatten(input_shape=(img_width, img_height, 3), name=\"Input_layer\")) \n",
        "\n",
        "model.add(Dense(1024, activation='relu', name=\"Hidden_layer_1\"))\n",
        "model.add(BatchNormalization())\n",
        "model.add(Dropout(0.25))\n",
        "\n",
        "model.add(Dense(512, activation='relu', name=\"Hidden_layer_2\"))\n",
        "model.add(BatchNormalization())\n",
        "model.add(Dropout(0.25))\n",
        "\n",
        "model.add(Dense(64, activation='relu', name=\"Hidden_layer_3\"))\n",
        "model.add(BatchNormalization())\n",
        "model.add(Dropout(0.25))\n",
        "\n",
        "model.add(Dense(5, activation='softmax', name=\"Output_layer\")) \n",
        "\n",
        "#Resumen de mi red neuronal\n",
        "model.summary()"
      ],
      "execution_count": 0,
      "outputs": []
    },
    {
      "cell_type": "code",
      "metadata": {
        "id": "mqWTMOG6I0h8",
        "colab_type": "code",
        "colab": {}
      },
      "source": [
        "def Check_image(image):\n",
        "  print(\"\\n\")\n",
        "  print(\"##############################\")\n",
        "  print(\"   VALIDACIÓN DE IMAGEN\")\n",
        "  print(\"##############################\")\n",
        "  print(\"\\n\")\n",
        "\n",
        "  #COMPROBAMOS CÓMO DE BUENO ES CON UNA IMAGEN EXTERNA\n",
        "  print(\"[INFO]: Cargando imagen a procesar...\")\n",
        "  print(\"\\n\")\n",
        "  #CARGAMOS LA IMAGEN GRACIAS A LA LIBRERIA CV2 Y LO PASAMOS A UNA IMAGEN RGB\n",
        "  img_path = \"XXXXXXXXXXXXXXXXXXXXXXXXXXXXXXXXXXXXXX\"+image\n",
        "  img_test = cv2.imread(img_path, cv2.IMREAD_COLOR) # Leo imagen con OPENCV\n",
        "  img_test = cv2.cvtColor(img_test,cv2.COLOR_BGR2RGB) # Por defecto la carga en BGR, la convierto a RGB por usar OPENCV\n",
        "\n",
        "  plt.imshow(img_test) #MOSTRAMOS IMAGEN\n",
        "  plt.show()\n",
        "\n",
        "  #PRE-PROCESAMOS TALY COMO SE HA HECHO PARA LA FASE DE ENTRENAMIENTO, LE HACEMOS MISMO CAMBIO A LA IMAGEN QUE LAS DE DENTRO\n",
        "  img_test = img_test.astype(\"float\") / 255.0 #(X)\n",
        "  #RE-ESCALAMOS LA IMAGEN AL TAMAÑO QUE FUE ENTRENADA (comando cv2.resize)\n",
        "  img_test_res = cv2.resize(img_test, (img_width, img_height))\n",
        "\n",
        "  print(\"############################\\n\")\n",
        "  print(\"################\\n\")\n",
        "  print(\"######\\n\")\n",
        "\n",
        "  labelNames = [\"Bulbasaur\", \"Charmander\", \"Mewtwo\", \"Pikachu\", \"Squirtle\"]\n",
        "\n",
        "  output = img_test_res.copy()\n",
        "\n",
        "  image = np.expand_dims(img_test_res, axis=0) #Expando porque así le indico que le voy a meter 1 foto (1, ....)\n",
        "\n",
        "  # Clasificación de la imagen empleando el modelo\n",
        "  print(\"[INFO]: Clasificando imagen...\")\n",
        "  print(\"\\n\")\n",
        "\n",
        "  proba = model.predict(image) #(X)\n",
        "  print(\"Las probabilidades son {}\".format(proba))\n",
        "\n",
        "  # Nos quedamos con la clase que presente una probabilidad mayor y buscamos la etiqueta en el vector labelNames\n",
        "  index = np.argmax(proba) #(X)\n",
        "  print(\"\\nLA CLASE CON MAYOR PROBABILIDAD ES LA {}\".format(index))\n",
        "  label = labelNames[index] #(X)\n",
        "  print(\"\\n--> ¡¡UN {} SALVAJE APARECIÓ!! <-- \".format(label))\n",
        "\n",
        "  #NO HARÍA FALTA LA VERDAD ABSOLUTA PORQUE YA LO ESTOY VIENDO YO MISMO\n",
        "  #gt = labelNames[train_generator.classes[8]] #0\n",
        "\n",
        "  # Mostrando imagen e información\n",
        "  #label = \"Predicción: {} - Confianza: {:.2f}% - Ground Truth: {}\".format(label, proba[0][index] * 100, gt)\n",
        "  label = \"Predicción: {} - Confianza: {:.2f}%\\n\".format(label, proba[0][index] * 100)\n",
        "\n",
        "  plt.imshow(output)\n",
        "  plt.title(label)\n",
        "  plt.show()"
      ],
      "execution_count": 0,
      "outputs": []
    },
    {
      "cell_type": "code",
      "metadata": {
        "id": "MB25Jyy_510M",
        "colab_type": "code",
        "colab": {}
      },
      "source": [
        "#COMPILAMOS MODELO Y LO ENTRENAMOS\n",
        "print(\"[INFO]: Entrenando red neuronal\\n\")\n",
        "\n",
        "model.compile(loss=\"categorical_crossentropy\", optimizer=tf.keras.optimizers.Adam(learning_rate=lr), metrics=[\"acc\"])\n",
        "\n",
        "H = model.fit_generator(  \n",
        "    train_generator,\n",
        "    epochs = epochs,\n",
        "    steps_per_epoch = (train_generator.samples * 0.9 * 2)/batch_size, #90% entrenamiento - 2 modificaciones a cada imagen\n",
        "    validation_data = validation_generator,\n",
        "    verbose = 1)\n",
        "\n",
        "print(\"##############################\")\n",
        "print(\"   RESULTADOS DEL MODELO\")\n",
        "print(\"##############################\")\n",
        "print(\"\\n\")\n",
        "\n",
        "#EVALUACIÓN DEL MODELO\n",
        "print(\"[INFO]: Evaluando el modelo...\")\n",
        "\n",
        "plt.style.use(\"ggplot\")\n",
        "plt.figure()\n",
        "\n",
        "plt.plot(H.history[\"loss\"], label=\"train_loss\")\n",
        "plt.plot(H.history[\"val_loss\"], label=\"val_loss\")\n",
        "plt.plot(H.history[\"acc\"], label=\"train_acc\")\n",
        "plt.plot(H.history[\"val_acc\"], label=\"val_acc\")\n",
        "plt.title(\"Training Loss and Accuracy\")\n",
        "plt.xlabel(\"Epoch #\")\n",
        "plt.ylabel(\"Loss/Accuracy\")\n",
        "plt.legend()\n",
        "plt.show()\n",
        "\n",
        "Check_image(\"bulb_img.jpg\")"
      ],
      "execution_count": 0,
      "outputs": []
    },
    {
      "cell_type": "code",
      "metadata": {
        "id": "3HVRG2HpgH_x",
        "colab_type": "code",
        "colab": {}
      },
      "source": [
        "# MÚLTIPLES COMPROBACIONES EN EL MISMO MOMENTO QUE SE ENTRENA LA RED NEURONAL\n",
        "names = [\"xxxx.jpg\",\"xxx.png\",\"xxx.jpeg\",\"xxxx.png\",\"xxx.png\",\"xxx.jpg\",\n",
        "         \"xxxx.jpg\",\"xxxx.jpg\",\"xxxx.png\",\"xxx.png\",\"xxx.png\"]\n",
        "for i in range(0,len(names)):\n",
        "  print(\"###########################\")\n",
        "  Check_image(names[i])"
      ],
      "execution_count": 0,
      "outputs": []
    },
    {
      "cell_type": "code",
      "metadata": {
        "id": "cQwhBSOROSeE",
        "colab_type": "code",
        "colab": {}
      },
      "source": [
        "#Almacenamos el modelo empleando la función model.save de Keras\n",
        "model.save(\"XXXXXXXXXXXXXXXXXXXXX/XXXXXXXXXXXXXX.h5\")"
      ],
      "execution_count": 0,
      "outputs": []
    },
    {
      "cell_type": "markdown",
      "metadata": {
        "id": "SS2u96IKBWGX",
        "colab_type": "text"
      },
      "source": [
        "# PREDICCIÓN DE IMÁGENES (CARGA DEL MODELO .h5)"
      ]
    },
    {
      "cell_type": "code",
      "metadata": {
        "id": "qMXMw6_DdpYn",
        "colab_type": "code",
        "outputId": "fee06816-558d-4c88-cc80-084c54d4cd48",
        "colab": {
          "base_uri": "https://localhost:8080/",
          "height": 1000
        }
      },
      "source": [
        "def predict_image(image,model):\n",
        "  print(\"##############################\")\n",
        "  print(\"   RESULTADOS DEL MODELO\")\n",
        "  print(\"##############################\")\n",
        "\n",
        "  print(\"\\n\")\n",
        "\n",
        "  #COMPROBAMOS CÓMO DE BUENO ES CON UNA IMAGEN EXTERNA\n",
        "  print(\"[INFO]: Cargando imagen a procesar...\\n\")\n",
        "  print(\"######\\n\")\n",
        "  print(\"################\\n\")\n",
        "  print(\"############################\")\n",
        "  \n",
        "  #CARGAMOS LA IMAGEN GRACIAS A LA LIBRERIA CV2 Y LO PASAMOS A UNA IMAGEN RGB\n",
        "  img_path = \"XXXXXXXXXXXXXXXXXXXXXXXX\"+image\n",
        "  img_test = cv2.imread(img_path, cv2.IMREAD_COLOR) # Leo imagen con OPENCV\n",
        "  img_test = cv2.cvtColor(img_test,cv2.COLOR_BGR2RGB) # Por defecto la carga en BGR, la convierto a RGB por usar OPENCV\n",
        "\n",
        "  plt.imshow(img_test) #MOSTRAMOS IMAGEN\n",
        "  plt.style.use(\"ggplot\")\n",
        "  plt.show()\n",
        "\n",
        "  #PRE-PROCESAMOS TALY COMO SE HA HECHO PARA LA FASE DE ENTRENAMIENTO, LE HACEMOS MISMO CAMBIO A LA IMAGEN QUE LAS DE DENTRO\n",
        "  img_test = img_test.astype(\"float\") / 255.0 #(X)\n",
        "  #RE-ESCALAMOS LA IMAGEN AL TAMAÑO QUE FUE ENTRENADA (comando cv2.resize)\n",
        "  img_test_res = cv2.resize(img_test, (img_width, img_height)) #(X)\n",
        "\n",
        "  print(\"############################\\n\")\n",
        "  print(\"################\\n\")\n",
        "  print(\"######\\n\")\n",
        "\n",
        "  labelNames = [\"BULBASAUR\", \"CHARMANDER\", \"MEWTWO\", \"PIKACHU\", \"SQUIRTLE\"]\n",
        "\n",
        "  output = img_test_res.copy()\n",
        "\n",
        "  image = np.expand_dims(img_test_res, axis=0) #Expando porque así le indico que le voy a meter 1 foto (1, ....)\n",
        "\n",
        "  # Clasificación de la imagen empleando el modelo\n",
        "  print(\"[INFO]: Clasificando imagen...\\n\")\n",
        "\n",
        "  proba = model.predict(image) #(X)\n",
        "  print(\"Las probabilidades son {}\".format(proba))\n",
        "\n",
        "  # Nos quedamos con la clase que presente una probabilidad mayor y buscamos la etiqueta en el vector labelNames\n",
        "  index = np.argmax(proba) #(X)\n",
        "  print(\"\\nLA CLASE CON MAYOR PROBABILIDAD ES LA {}\".format(index))\n",
        "  label = labelNames[index] #(X)\n",
        "  print(\"\\n--> ¡UN {} SALVAJE APARECIÓ! <-- \\n\".format('\\033[1m'+label+'\\033[0m'))\n",
        "\n",
        "  #NO HARÍA FALTA LA VERDAD ABSOLUTA PORQUE YA LO ESTOY VIENDO YO MISMO\n",
        "  #gt = labelNames[train_generator.classes[8]] #0\n",
        "\n",
        "  # Mostrando imagen e información\n",
        "  #label = \"Predicción: {} - Confianza: {:.2f}% - Ground Truth: {}\".format(label, proba[0][index] * 100, gt)\n",
        "  label = \"Predicción: {} - Confianza: {:.2f}%\\n\".format(label, proba[0][index] * 100)\n",
        "\n",
        "  plt.style.use(\"ggplot\")\n",
        "  plt.imshow(output)\n",
        "  plt.title(label)\n",
        "  plt.show()\n",
        "\n",
        "#CARGAMOS EL MODELO CON EL QUE HA APRENDIDO (DESCOMENTAMOS LO DE BAJO CUANDO SE HAYA CERRADO LA SESION)\n",
        "model = load_model(\"XXXXXXXXXXXXXXX/XXXXXX.h5\")\n",
        "\n",
        "predict_image(\"XXXXXX.jpg\",model)"
      ],
      "execution_count": 0,
      "outputs": [
        {
          "output_type": "stream",
          "text": [
            "##############################\n",
            "   RESULTADOS DEL MODELO\n",
            "##############################\n",
            "\n",
            "\n",
            "[INFO]: Cargando imagen a procesar...\n",
            "\n",
            "######\n",
            "\n",
            "################\n",
            "\n",
            "############################\n"
          ],
          "name": "stdout"
        },
        {
          "output_type": "display_data",
          "data": {
            "image/png": "[encoded data removed]",
            "text/plain": [
              "<Figure size 432x288 with 1 Axes>"
            ]
          },
          "metadata": {
            "tags": []
          }
        },
        {
          "output_type": "stream",
          "text": [
            "############################\n",
            "\n",
            "################\n",
            "\n",
            "######\n",
            "\n",
            "[INFO]: Clasificando imagen...\n",
            "\n",
            "Las probabilidades son [[0.00823648 0.9612766  0.00318428 0.01660993 0.0106927 ]]\n",
            "\n",
            "LA CLASE CON MAYOR PROBABILIDAD ES LA 1\n",
            "\n",
            "--> ¡UN \u001b[1mCHARMANDER\u001b[0m SALVAJE APARECIÓ! <-- \n",
            "\n"
          ],
          "name": "stdout"
        },
        {
          "output_type": "display_data",
          "data": {
            "image/png": "[encoded data removed]",
            "text/plain": [
              "<Figure size 432x288 with 1 Axes>"
            ]
          },
          "metadata": {
            "tags": []
          }
        }
      ]
    }
  ]
}